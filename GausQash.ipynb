{
 "cells": [
  {
   "cell_type": "markdown",
   "metadata": {},
   "source": [
    "<p align='center'><img src=\"img/GausQash.png\" width=\"250\"></p>"
   ]
  },
  {
   "cell_type": "markdown",
   "metadata": {},
   "source": [
    "# GausQash-QKDC (Gaussian Hash Circuit)\n",
    "- quantum hash generator based on [qash-qkdc](https://github.com/TimeMelt/qash-qkdc)\n",
    "- this notebook uses the Xanadu-Strawberryfields SDK\n",
    "- compatible with photonic simulators/devices"
   ]
  },
  {
   "cell_type": "code",
   "execution_count": 1,
   "metadata": {},
   "outputs": [],
   "source": [
    "import strawberryfields as sf\n",
    "from strawberryfields import ops\n",
    "import numpy as np\n",
    "import qkdc_helper"
   ]
  },
  {
   "cell_type": "markdown",
   "metadata": {},
   "source": [
    "### Define Hash Circuit Functions\n",
    "1. set thermal quantum state\n",
    "2. photonic rotation\n",
    "3. displacement channel\n",
    "4. thermal loss channel\n",
    "5. beamsplitter operation"
   ]
  },
  {
   "cell_type": "code",
   "execution_count": 2,
   "metadata": {},
   "outputs": [],
   "source": [
    "def setThermalState(input, wires):\n",
    "    for c,q in enumerate(input):\n",
    "        n = np.tan(q) * np.cos(q)\n",
    "        ops.Thermal(n) | wires[c]\n",
    "\n",
    "def rotationStep(input, wires):\n",
    "    for c,q in enumerate(input):\n",
    "        phi = q * np.tan(q)\n",
    "        ops.Rgate(phi) | wires[c]\n",
    "\n",
    "def displaceStep(input, wires):\n",
    "    for c,q in enumerate(input):\n",
    "        r = q\n",
    "        phi = np.tan(r) * np.cos(r)\n",
    "        ops.Dgate(r,phi) | wires[c]\n",
    "\n",
    "def thermalLoss(input, wires):\n",
    "    for c,q in enumerate(input):\n",
    "        T = 0.25\n",
    "        nbar = np.tan(q)\n",
    "        ops.ThermalLossChannel(T, nbar) | wires[c]\n",
    "\n",
    "def beamSplitter(input, wires):\n",
    "    for c,q in enumerate(input):\n",
    "        theta = q * (input.size * np.tan(q))\n",
    "        phi = q * (input.size * np.tan(q))\n",
    "        if c == input.size or c == input.size-1:\n",
    "            pass\n",
    "        else:\n",
    "            ops.BSgate(theta,phi) | [wires[c], wires[c+1]]"
   ]
  },
  {
   "cell_type": "markdown",
   "metadata": {},
   "source": [
    "### Prepare Data to Hash\n",
    "- convert string defined as 'text' to numerical values\n",
    "- pad based on value of 'pad_length'\n",
    "- define number of wires based on total length of input \n",
    "    - len(text) + pad_length\n",
    "    - equal to length of string input plus padding length\n",
    "- print input after numerical conversion\n",
    "- print number of wires "
   ]
  },
  {
   "cell_type": "code",
   "execution_count": 3,
   "metadata": {},
   "outputs": [
    {
     "name": "stdout",
     "output_type": "stream",
     "text": [
      "converted input: [1.16 1.01 1.15 1.16]\n",
      "number of wires: 4\n"
     ]
    }
   ],
   "source": [
    "text = 'test'\n",
    "pad_length = 0\n",
    "input = qkdc_helper.createAndPad(text,pad_length)\n",
    "num_wires = len(input)\n",
    "\n",
    "print(f\"converted input: {input}\")\n",
    "print(f\"number of wires: {num_wires}\")"
   ]
  },
  {
   "cell_type": "markdown",
   "metadata": {},
   "source": [
    "### Create Quantum Hashing Circuit"
   ]
  },
  {
   "cell_type": "code",
   "execution_count": 4,
   "metadata": {},
   "outputs": [],
   "source": [
    "program = sf.Program(num_wires)\n",
    "\n",
    "def runProg(engine, program):\n",
    "    with program.context as wires:\n",
    "        setThermalState(input, wires)\n",
    "        rotationStep(input, wires)\n",
    "        displaceStep(input, wires)\n",
    "        thermalLoss(input, wires)\n",
    "        beamSplitter(input, wires)\n",
    "        ops.MeasureThreshold() | wires\n",
    "    \n",
    "    return engine.run(program, shots=1)"
   ]
  },
  {
   "cell_type": "markdown",
   "metadata": {},
   "source": [
    "### Define Quantum Simulation Engine\n",
    "- only compatible with gaussian backend \n",
    "    - thermal loss channel does not support fock backends"
   ]
  },
  {
   "cell_type": "code",
   "execution_count": 5,
   "metadata": {},
   "outputs": [],
   "source": [
    "engine = sf.Engine(\"gaussian\", backend_options={})"
   ]
  },
  {
   "cell_type": "markdown",
   "metadata": {},
   "source": [
    "### Run Circuit"
   ]
  },
  {
   "cell_type": "code",
   "execution_count": 6,
   "metadata": {},
   "outputs": [],
   "source": [
    "result = runProg(engine, program)"
   ]
  },
  {
   "cell_type": "markdown",
   "metadata": {},
   "source": [
    "### Show Output\n",
    "- calculate number expectation for each wire\n",
    "- convert number expectations to hex and/or base64 format"
   ]
  },
  {
   "cell_type": "code",
   "execution_count": 7,
   "metadata": {},
   "outputs": [
    {
     "name": "stdout",
     "output_type": "stream",
     "text": [
      "hex output: 6eccadfd0dcb40b503dfbc268a364081bd8bfec5882240ad8c228e71cf58408200790193bcbb40ae399ac550bf44406b6aa854955c844085d1c565176692\n",
      "base64 output: NmVjY2FkZmQwZGNiNDBiNTAzZGZiYzI2OGEzNjQwODFiZDhiZmVjNTg4MjI0MGFkOGMyMjhlNzFjZjU4NDA4MjAwNzkwMTkzYmNiYjQwYWUzOTlhYzU1MGJmNDQ0MDZiNmFhODU0OTU1Yzg0NDA4NWQxYzU2NTE3NjY5Mg==\n",
      "\n"
     ]
    }
   ],
   "source": [
    "out_list = np.array([])\n",
    "for i in range(num_wires):\n",
    "    out_list = np.append(out_list, result.state.number_expectation(modes=[i]))\n",
    "\n",
    "print(f\"hex output: {qkdc_helper.processOutput(out_list,'hex')}\")\n",
    "print(f\"base64 output: {qkdc_helper.processOutput(out_list,'base64')}\")"
   ]
  }
 ],
 "metadata": {
  "kernelspec": {
   "display_name": "strawberry3.11",
   "language": "python",
   "name": "python3"
  },
  "language_info": {
   "codemirror_mode": {
    "name": "ipython",
    "version": 3
   },
   "file_extension": ".py",
   "mimetype": "text/x-python",
   "name": "python",
   "nbconvert_exporter": "python",
   "pygments_lexer": "ipython3",
   "version": "3.11.7"
  }
 },
 "nbformat": 4,
 "nbformat_minor": 2
}
